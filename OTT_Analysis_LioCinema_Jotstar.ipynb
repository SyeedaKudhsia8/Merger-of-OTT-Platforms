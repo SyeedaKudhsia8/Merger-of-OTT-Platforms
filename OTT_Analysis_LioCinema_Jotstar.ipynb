{
 "cells": [
  {
   "cell_type": "code",
   "execution_count": null,
   "id": "ba243020",
   "metadata": {},
   "outputs": [],
   "source": [
    "import sqlite3\n",
    "import pandas as pd\n",
    "import matplotlib.pyplot as plt\n",
    "import seaborn as sns\n",
    "import plotly.express as px\n",
    "import os\n",
    "\n",
    "sns.set(style='whitegrid')\n"
   ]
  },
  {
   "cell_type": "code",
   "execution_count": null,
   "id": "94a63517",
   "metadata": {},
   "outputs": [],
   "source": [
    "# Create SQLite databases\n",
    "jotstar_conn = sqlite3.connect(\"jotstar.db\")\n",
    "liocinema_conn = sqlite3.connect(\"liocinema.db\")\n",
    "\n",
    "# Load SQL files\n",
    "with open(\"/mnt/data/Jotstar_db.sql\", \"r\") as f:\n",
    "    jotstar_sql = f.read()\n",
    "with open(\"/mnt/data/LioCinema_db.sql\", \"r\") as f:\n",
    "    liocinema_sql = f.read()\n",
    "\n",
    "# Execute SQL scripts to create tables and load data\n",
    "jotstar_conn.executescript(jotstar_sql)\n",
    "liocinema_conn.executescript(liocinema_sql)\n"
   ]
  },
  {
   "cell_type": "code",
   "execution_count": null,
   "id": "5620e5dc",
   "metadata": {},
   "outputs": [],
   "source": [
    "# List tables in both databases\n",
    "def list_tables(conn):\n",
    "    return pd.read_sql(\"SELECT name FROM sqlite_master WHERE type='table';\", conn)\n",
    "\n",
    "print(\"📦 Jotstar Tables\")\n",
    "display(list_tables(jotstar_conn))\n",
    "print(\"📦 LioCinema Tables\")\n",
    "display(list_tables(liocinema_conn))\n"
   ]
  },
  {
   "cell_type": "markdown",
   "id": "610db9fc",
   "metadata": {},
   "source": [
    "## 🚀 Analysis Starts Here (to be continued with user queries)"
   ]
  },
  {
   "cell_type": "markdown",
   "id": "e50870a6",
   "metadata": {},
   "source": [
    "### 1. Total Users & Growth Trends"
   ]
  },
  {
   "cell_type": "code",
   "execution_count": null,
   "id": "780736eb",
   "metadata": {},
   "outputs": [],
   "source": [
    "# Monthly user count (Jan to Nov 2024)\n",
    "query = '''\n",
    "SELECT strftime('%m', created_at) AS month,\n",
    "       COUNT(*) AS user_count\n",
    "FROM subscribers\n",
    "WHERE created_at BETWEEN '2024-01-01' AND '2024-11-30'\n",
    "GROUP BY month\n",
    "ORDER BY month;\n",
    "'''\n",
    "lio_growth = pd.read_sql(query, liocinema_conn)\n",
    "jot_growth = pd.read_sql(query, jotstar_conn)\n",
    "\n",
    "lio_growth['Platform'] = 'LioCinema'\n",
    "jot_growth['Platform'] = 'Jotstar'\n",
    "all_growth = pd.concat([lio_growth, jot_growth])\n",
    "\n",
    "px.line(all_growth, x='month', y='user_count', color='Platform',\n",
    "        title='📈 Monthly User Growth (Jan–Nov 2024)')\n"
   ]
  },
  {
   "cell_type": "markdown",
   "id": "cc8266c2",
   "metadata": {},
   "source": [
    "### 2. Content Library Comparison"
   ]
  },
  {
   "cell_type": "code",
   "execution_count": null,
   "id": "d5da9989",
   "metadata": {},
   "outputs": [],
   "source": [
    "# Total content count and breakdown\n",
    "query = '''\n",
    "SELECT content_type, language, COUNT(*) AS count\n",
    "FROM content\n",
    "GROUP BY content_type, language\n",
    "ORDER BY count DESC;\n",
    "'''\n",
    "lio_content = pd.read_sql(query, liocinema_conn)\n",
    "jot_content = pd.read_sql(query, jotstar_conn)\n",
    "\n",
    "lio_content['Platform'] = 'LioCinema'\n",
    "jot_content['Platform'] = 'Jotstar'\n",
    "content_df = pd.concat([lio_content, jot_content])\n",
    "\n",
    "content_df.head(10)\n"
   ]
  },
  {
   "cell_type": "markdown",
   "id": "5ffb7529",
   "metadata": {},
   "source": [
    "### 3. User Demographics"
   ]
  },
  {
   "cell_type": "code",
   "execution_count": null,
   "id": "bc5aa06e",
   "metadata": {},
   "outputs": [],
   "source": [
    "query = '''\n",
    "SELECT age_group, city_tier, current_plan, COUNT(*) AS user_count\n",
    "FROM subscribers\n",
    "GROUP BY age_group, city_tier, current_plan;\n",
    "'''\n",
    "lio_demo = pd.read_sql(query, liocinema_conn)\n",
    "jot_demo = pd.read_sql(query, jotstar_conn)\n",
    "\n",
    "lio_demo['Platform'] = 'LioCinema'\n",
    "jot_demo['Platform'] = 'Jotstar'\n",
    "pd.concat([lio_demo, jot_demo])\n"
   ]
  },
  {
   "cell_type": "markdown",
   "id": "d73eca6d",
   "metadata": {},
   "source": [
    "### 4. Active vs Inactive Users"
   ]
  },
  {
   "cell_type": "code",
   "execution_count": null,
   "id": "91da7f2d",
   "metadata": {},
   "outputs": [],
   "source": [
    "query = '''\n",
    "SELECT is_active, age_group, current_plan, COUNT(*) AS count\n",
    "FROM subscribers\n",
    "GROUP BY is_active, age_group, current_plan;\n",
    "'''\n",
    "lio_status = pd.read_sql(query, liocinema_conn)\n",
    "jot_status = pd.read_sql(query, jotstar_conn)\n",
    "\n",
    "lio_status['Platform'] = 'LioCinema'\n",
    "jot_status['Platform'] = 'Jotstar'\n",
    "pd.concat([lio_status, jot_status])\n"
   ]
  },
  {
   "cell_type": "markdown",
   "id": "0ecfcf76",
   "metadata": {},
   "source": [
    "### 5. Watch Time Analysis"
   ]
  },
  {
   "cell_type": "code",
   "execution_count": null,
   "id": "610ff832",
   "metadata": {},
   "outputs": [],
   "source": [
    "query = '''\n",
    "SELECT device_type, ROUND(AVG(total_watch_time_mins), 2) AS avg_watch_time\n",
    "FROM content_consumption\n",
    "GROUP BY device_type;\n",
    "'''\n",
    "lio_watch = pd.read_sql(query, liocinema_conn)\n",
    "jot_watch = pd.read_sql(query, jotstar_conn)\n",
    "\n",
    "lio_watch['Platform'] = 'LioCinema'\n",
    "jot_watch['Platform'] = 'Jotstar'\n",
    "pd.concat([lio_watch, jot_watch])\n"
   ]
  },
  {
   "cell_type": "markdown",
   "id": "3b043bab",
   "metadata": {},
   "source": [
    "### 6. Inactivity Correlation"
   ]
  },
  {
   "cell_type": "code",
   "execution_count": null,
   "id": "3aaa5f80",
   "metadata": {},
   "outputs": [],
   "source": [
    "query = '''\n",
    "SELECT s.is_active, AVG(c.total_watch_time_mins) AS avg_watch\n",
    "FROM content_consumption c\n",
    "JOIN subscribers s ON c.user_id = s.user_id\n",
    "GROUP BY s.is_active;\n",
    "'''\n",
    "lio_corr = pd.read_sql(query, liocinema_conn)\n",
    "jot_corr = pd.read_sql(query, jotstar_conn)\n",
    "\n",
    "lio_corr['Platform'] = 'LioCinema'\n",
    "jot_corr['Platform'] = 'Jotstar'\n",
    "pd.concat([lio_corr, jot_corr])\n"
   ]
  },
  {
   "cell_type": "markdown",
   "id": "94cc95f1",
   "metadata": {},
   "source": [
    "### 7. Downgrade Trends"
   ]
  },
  {
   "cell_type": "code",
   "execution_count": null,
   "id": "1d18defc",
   "metadata": {},
   "outputs": [],
   "source": [
    "query = '''\n",
    "SELECT from_plan, to_plan, COUNT(*) AS downgrade_count\n",
    "FROM plan_transitions\n",
    "WHERE downgrade = 1\n",
    "GROUP BY from_plan, to_plan\n",
    "ORDER BY downgrade_count DESC;\n",
    "'''\n",
    "lio_down = pd.read_sql(query, liocinema_conn)\n",
    "jot_down = pd.read_sql(query, jotstar_conn)\n",
    "\n",
    "lio_down['Platform'] = 'LioCinema'\n",
    "jot_down['Platform'] = 'Jotstar'\n",
    "pd.concat([lio_down, jot_down])\n"
   ]
  },
  {
   "cell_type": "markdown",
   "id": "4bad008a",
   "metadata": {},
   "source": [
    "### 8. Upgrade Patterns"
   ]
  },
  {
   "cell_type": "code",
   "execution_count": null,
   "id": "bee6693f",
   "metadata": {},
   "outputs": [],
   "source": [
    "query = '''\n",
    "SELECT from_plan, to_plan, COUNT(*) AS upgrade_count\n",
    "FROM plan_transitions\n",
    "WHERE upgrade = 1\n",
    "GROUP BY from_plan, to_plan\n",
    "ORDER BY upgrade_count DESC;\n",
    "'''\n",
    "lio_up = pd.read_sql(query, liocinema_conn)\n",
    "jot_up = pd.read_sql(query, jotstar_conn)\n",
    "\n",
    "lio_up['Platform'] = 'LioCinema'\n",
    "jot_up['Platform'] = 'Jotstar'\n",
    "pd.concat([lio_up, jot_up])\n"
   ]
  },
  {
   "cell_type": "markdown",
   "id": "2633c255",
   "metadata": {},
   "source": [
    "### 9. Paid User Distribution by City Tier"
   ]
  },
  {
   "cell_type": "code",
   "execution_count": null,
   "id": "9d5e70e4",
   "metadata": {},
   "outputs": [],
   "source": [
    "query = '''\n",
    "SELECT city_tier, current_plan, COUNT(*) AS users\n",
    "FROM subscribers\n",
    "WHERE current_plan NOT IN ('Free')\n",
    "GROUP BY city_tier, current_plan;\n",
    "'''\n",
    "lio_paid = pd.read_sql(query, liocinema_conn)\n",
    "jot_paid = pd.read_sql(query, jotstar_conn)\n",
    "\n",
    "lio_paid['Platform'] = 'LioCinema'\n",
    "jot_paid['Platform'] = 'Jotstar'\n",
    "pd.concat([lio_paid, jot_paid])\n"
   ]
  },
  {
   "cell_type": "markdown",
   "id": "e626d19d",
   "metadata": {},
   "source": [
    "### 10. Revenue Analysis"
   ]
  },
  {
   "cell_type": "code",
   "execution_count": null,
   "id": "b1a29180",
   "metadata": {},
   "outputs": [],
   "source": [
    "# Revenue assumptions\n",
    "plan_prices = {\n",
    "    'Free': 0,\n",
    "    'Basic': 199,\n",
    "    'VIP': 299,\n",
    "    'Premium': 499\n",
    "}\n",
    "\n",
    "query = '''\n",
    "SELECT current_plan, COUNT(*) AS subscribers\n",
    "FROM subscribers\n",
    "GROUP BY current_plan;\n",
    "'''\n",
    "lio_rev = pd.read_sql(query, liocinema_conn)\n",
    "jot_rev = pd.read_sql(query, jotstar_conn)\n",
    "\n",
    "def calc_revenue(df, months):\n",
    "    df['price'] = df['current_plan'].map(plan_prices)\n",
    "    df['revenue'] = df['subscribers'] * df['price'] * months\n",
    "    return df[['current_plan', 'revenue']]\n",
    "\n",
    "lio_rev = calc_revenue(lio_rev, 11)\n",
    "jot_rev = calc_revenue(jot_rev, 11)\n",
    "\n",
    "lio_rev['Platform'] = 'LioCinema'\n",
    "jot_rev['Platform'] = 'Jotstar'\n",
    "pd.concat([lio_rev, jot_rev])\n"
   ]
  }
 ],
 "metadata": {},
 "nbformat": 4,
 "nbformat_minor": 5
}
